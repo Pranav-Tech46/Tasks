{
 "cells": [
  {
   "cell_type": "code",
   "execution_count": 1,
   "metadata": {},
   "outputs": [],
   "source": [
    "import multiprocessing as mp\n",
    "import requests\n",
    "from bs4 import BeautifulSoup\n",
    "import pandas as pd\n",
    "import csv\n",
    "import time\n",
    "from tqdm import tqdm\n",
    "import os\n",
    "import os.path"
   ]
  },
  {
   "cell_type": "code",
   "execution_count": 2,
   "metadata": {},
   "outputs": [],
   "source": [
    "# Total range of years\n",
    "start_year = 2019\n",
    "end_year = 2020\n",
    "\n",
    "# Customise which year, quarter and row to start from and which year to end at\n",
    "start_from_year = 2019\n",
    "start_from_quarter = 1\n",
    "start_from_row = 1\n",
    "stop_at_year = 2020"
   ]
  },
  {
   "cell_type": "code",
   "execution_count": 12,
   "metadata": {},
   "outputs": [],
   "source": [
    "def worker(row, q):\n",
    "    row_text = []\n",
    "    page = requests.get(row[\"https://api.nytimes.com/svc/search/v2/articlesearch.json\"]).text\n",
    "    soup = BeautifulSoup(page, 'html.parser')\n",
    "    article_body = soup.select('section[name=articleBody] p')\n",
    "    if len(article_body) == 0:\n",
    "        article_body = soup.select('p.story-body-text')\n",
    "    content = \"\"\n",
    "    for paragraph in article_body:\n",
    "        text_content = (paragraph.get_text()).strip()\n",
    "        if not text_content:\n",
    "            continue\n",
    "        content += (' ' + text_content.replace('\\n', ''))\n",
    "    row['article'] = content\n",
    "    row_text = [row['_id'],row['url'],row['word_count'],row['section'],row['date'],row['type'],row['headline'].replace('\\n', ''),row['abstract'].replace('\\n', ''),row['article'].replace('\\n', '')]\n",
    "    q.put(row_text)\n",
    "    return row_text"
   ]
  },
  {
   "cell_type": "code",
   "execution_count": 13,
   "metadata": {},
   "outputs": [],
   "source": [
    "def listener(q):\n",
    "    while 1:\n",
    "        m = q.get()\n",
    "        if m == 'kill':\n",
    "            break"
   ]
  },
  {
   "cell_type": "code",
   "execution_count": 14,
   "metadata": {},
   "outputs": [
    {
     "ename": "FileNotFoundError",
     "evalue": "[Errno 2] No such file or directory: 'articles/articles_2019.csv'",
     "output_type": "error",
     "traceback": [
      "\u001b[1;31m---------------------------------------------------------------------------\u001b[0m",
      "\u001b[1;31mFileNotFoundError\u001b[0m                         Traceback (most recent call last)",
      "\u001b[1;32m<ipython-input-14-82f02da141d7>\u001b[0m in \u001b[0;36m<module>\u001b[1;34m\u001b[0m\n\u001b[0;32m     10\u001b[0m     \u001b[0mout_file_name\u001b[0m \u001b[1;33m=\u001b[0m \u001b[1;34m'articles/articles_{}.csv'\u001b[0m\u001b[1;33m.\u001b[0m\u001b[0mformat\u001b[0m\u001b[1;33m(\u001b[0m\u001b[0mstart_year\u001b[0m\u001b[1;33m+\u001b[0m\u001b[0myear\u001b[0m\u001b[1;33m)\u001b[0m\u001b[1;33m\u001b[0m\u001b[1;33m\u001b[0m\u001b[0m\n\u001b[0;32m     11\u001b[0m     \u001b[0mcolumns\u001b[0m \u001b[1;33m=\u001b[0m \u001b[1;33m[\u001b[0m\u001b[1;34m'_id'\u001b[0m\u001b[1;33m,\u001b[0m\u001b[1;34m'url'\u001b[0m\u001b[1;33m,\u001b[0m\u001b[1;34m'word_count'\u001b[0m\u001b[1;33m,\u001b[0m\u001b[1;34m'section'\u001b[0m\u001b[1;33m,\u001b[0m\u001b[1;34m'date'\u001b[0m\u001b[1;33m,\u001b[0m\u001b[1;34m'type'\u001b[0m\u001b[1;33m,\u001b[0m\u001b[1;34m'headline'\u001b[0m\u001b[1;33m,\u001b[0m\u001b[1;34m'abstract'\u001b[0m\u001b[1;33m,\u001b[0m\u001b[1;34m'article'\u001b[0m\u001b[1;33m]\u001b[0m\u001b[1;33m\u001b[0m\u001b[1;33m\u001b[0m\u001b[0m\n\u001b[1;32m---> 12\u001b[1;33m     \u001b[1;32mwith\u001b[0m \u001b[0mopen\u001b[0m\u001b[1;33m(\u001b[0m\u001b[0mout_file_name\u001b[0m\u001b[1;33m,\u001b[0m \u001b[1;34m'a+'\u001b[0m\u001b[1;33m)\u001b[0m \u001b[1;32mas\u001b[0m \u001b[0mout_file\u001b[0m\u001b[1;33m:\u001b[0m\u001b[1;33m\u001b[0m\u001b[1;33m\u001b[0m\u001b[0m\n\u001b[0m\u001b[0;32m     13\u001b[0m         \u001b[0mwriter\u001b[0m \u001b[1;33m=\u001b[0m \u001b[0mcsv\u001b[0m\u001b[1;33m.\u001b[0m\u001b[0mwriter\u001b[0m\u001b[1;33m(\u001b[0m\u001b[0mout_file\u001b[0m\u001b[1;33m)\u001b[0m\u001b[1;33m\u001b[0m\u001b[1;33m\u001b[0m\u001b[0m\n\u001b[0;32m     14\u001b[0m \u001b[1;33m\u001b[0m\u001b[0m\n",
      "\u001b[1;31mFileNotFoundError\u001b[0m: [Errno 2] No such file or directory: 'articles/articles_2019.csv'"
     ]
    }
   ],
   "source": [
    "for year in range(end_year - start_year):\n",
    "    # Stop at the mentioned year\n",
    "    if start_year+year == stop_at_year:\n",
    "        break\n",
    "    \n",
    "    # Skip fetching previously covered data\n",
    "    if (start_year+year < start_from_year):\n",
    "        continue\n",
    "    \n",
    "    out_file_name = 'articles/articles_{}.csv'.format(start_year+year)\n",
    "    columns = ['_id','url','word_count','section','date','type','headline','abstract','article']\n",
    "    with open(out_file_name, 'a+') as out_file:\n",
    "        writer = csv.writer(out_file)\n",
    "        \n",
    "        # If file is created new or empty, write column names first\n",
    "        if os.path.isfile(out_file_name):\n",
    "            if (os.stat(out_file_name).st_size == 0):\n",
    "                writer.writerow(columns)\n",
    "        else:\n",
    "            writer.writerow(columns)\n",
    "        \n",
    "        for quarter in range(4):\n",
    "            # Skip Quarters as per the customisations\n",
    "            if (start_year+year == start_from_year) and (quarter < start_from_quarter-1):\n",
    "                continue\n",
    "            with open('meta_data/articles_metadata_{}_{}.csv'.format(start_year+year, quarter+1)) as meta_file:\n",
    "                data = csv.DictReader(meta_file)\n",
    "                num_articles = 2000\n",
    "                manager = mp.Manager()\n",
    "                q = manager.Queue()    \n",
    "                pool = mp.Pool(10)\n",
    "                \n",
    "                #put listener to work first\n",
    "                watcher = pool.apply_async(listener, (q,))\n",
    "                \n",
    "                #fire off workers\n",
    "                jobs = []\n",
    "                for row in data:\n",
    "                    job = pool.apply_async(worker, (row, q))\n",
    "                    jobs.append(job)\n",
    "                \n",
    "                # collect results from the workers through the pool result queue\n",
    "                for job in jobs:\n",
    "                    row_val = job.get()\n",
    "                    if not row_val:\n",
    "                        continue\n",
    "                    writer.writerow(row_val)\n",
    "                    \n",
    "                #now we are done, kill the listener\n",
    "                q.put('kill')\n",
    "                pool.close()\n",
    "                pool.join()\n"
   ]
  },
  {
   "cell_type": "code",
   "execution_count": null,
   "metadata": {},
   "outputs": [],
   "source": []
  }
 ],
 "metadata": {
  "kernelspec": {
   "display_name": "Python 3",
   "language": "python",
   "name": "python3"
  },
  "language_info": {
   "codemirror_mode": {
    "name": "ipython",
    "version": 3
   },
   "file_extension": ".py",
   "mimetype": "text/x-python",
   "name": "python",
   "nbconvert_exporter": "python",
   "pygments_lexer": "ipython3",
   "version": "3.7.6"
  }
 },
 "nbformat": 4,
 "nbformat_minor": 4
}
