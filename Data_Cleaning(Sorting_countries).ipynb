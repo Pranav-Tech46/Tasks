{
  "nbformat": 4,
  "nbformat_minor": 0,
  "metadata": {
    "colab": {
      "name": "Data Cleaning(Sorting countries).ipynb",
      "provenance": []
    },
    "kernelspec": {
      "name": "python3",
      "display_name": "Python 3"
    }
  },
  "cells": [
    {
      "cell_type": "code",
      "metadata": {
        "id": "4Ib3QgcDf9n1"
      },
      "source": [
        "import pandas as pd\r\n",
        "import numpy as np"
      ],
      "execution_count": null,
      "outputs": []
    },
    {
      "cell_type": "code",
      "metadata": {
        "id": "SXOgSpm6hKhv"
      },
      "source": [
        "df=pd.read_csv(\"Exchange Rate Data.csv\")"
      ],
      "execution_count": null,
      "outputs": []
    },
    {
      "cell_type": "code",
      "metadata": {
        "colab": {
          "base_uri": "https://localhost:8080/",
          "height": 202
        },
        "id": "gVujqhcGhN1r",
        "outputId": "5539c170-d38d-4c3e-eb2a-cc5eb1d16caf"
      },
      "source": [
        "df.head()"
      ],
      "execution_count": null,
      "outputs": [
        {
          "output_type": "execute_result",
          "data": {
            "text/html": [
              "<div>\n",
              "<style scoped>\n",
              "    .dataframe tbody tr th:only-of-type {\n",
              "        vertical-align: middle;\n",
              "    }\n",
              "\n",
              "    .dataframe tbody tr th {\n",
              "        vertical-align: top;\n",
              "    }\n",
              "\n",
              "    .dataframe thead th {\n",
              "        text-align: right;\n",
              "    }\n",
              "</style>\n",
              "<table border=\"1\" class=\"dataframe\">\n",
              "  <thead>\n",
              "    <tr style=\"text-align: right;\">\n",
              "      <th></th>\n",
              "      <th>LOCATION</th>\n",
              "      <th>INDICATOR</th>\n",
              "      <th>SUBJECT</th>\n",
              "      <th>MEASURE</th>\n",
              "      <th>FREQUENCY</th>\n",
              "      <th>TIME</th>\n",
              "      <th>Value</th>\n",
              "      <th>Flag Codes</th>\n",
              "    </tr>\n",
              "  </thead>\n",
              "  <tbody>\n",
              "    <tr>\n",
              "      <th>0</th>\n",
              "      <td>AUS</td>\n",
              "      <td>EXCH</td>\n",
              "      <td>TOT</td>\n",
              "      <td>NATUSD</td>\n",
              "      <td>A</td>\n",
              "      <td>1981</td>\n",
              "      <td>0.870215</td>\n",
              "      <td>NaN</td>\n",
              "    </tr>\n",
              "    <tr>\n",
              "      <th>1</th>\n",
              "      <td>AUS</td>\n",
              "      <td>EXCH</td>\n",
              "      <td>TOT</td>\n",
              "      <td>NATUSD</td>\n",
              "      <td>A</td>\n",
              "      <td>1982</td>\n",
              "      <td>0.985863</td>\n",
              "      <td>NaN</td>\n",
              "    </tr>\n",
              "    <tr>\n",
              "      <th>2</th>\n",
              "      <td>AUS</td>\n",
              "      <td>EXCH</td>\n",
              "      <td>TOT</td>\n",
              "      <td>NATUSD</td>\n",
              "      <td>A</td>\n",
              "      <td>1983</td>\n",
              "      <td>1.110015</td>\n",
              "      <td>NaN</td>\n",
              "    </tr>\n",
              "    <tr>\n",
              "      <th>3</th>\n",
              "      <td>AUS</td>\n",
              "      <td>EXCH</td>\n",
              "      <td>TOT</td>\n",
              "      <td>NATUSD</td>\n",
              "      <td>A</td>\n",
              "      <td>1984</td>\n",
              "      <td>1.139519</td>\n",
              "      <td>NaN</td>\n",
              "    </tr>\n",
              "    <tr>\n",
              "      <th>4</th>\n",
              "      <td>AUS</td>\n",
              "      <td>EXCH</td>\n",
              "      <td>TOT</td>\n",
              "      <td>NATUSD</td>\n",
              "      <td>A</td>\n",
              "      <td>1985</td>\n",
              "      <td>1.431895</td>\n",
              "      <td>NaN</td>\n",
              "    </tr>\n",
              "  </tbody>\n",
              "</table>\n",
              "</div>"
            ],
            "text/plain": [
              "  LOCATION INDICATOR SUBJECT MEASURE FREQUENCY  TIME     Value  Flag Codes\n",
              "0      AUS      EXCH     TOT  NATUSD         A  1981  0.870215         NaN\n",
              "1      AUS      EXCH     TOT  NATUSD         A  1982  0.985863         NaN\n",
              "2      AUS      EXCH     TOT  NATUSD         A  1983  1.110015         NaN\n",
              "3      AUS      EXCH     TOT  NATUSD         A  1984  1.139519         NaN\n",
              "4      AUS      EXCH     TOT  NATUSD         A  1985  1.431895         NaN"
            ]
          },
          "metadata": {
            "tags": []
          },
          "execution_count": 4
        }
      ]
    },
    {
      "cell_type": "code",
      "metadata": {
        "colab": {
          "base_uri": "https://localhost:8080/"
        },
        "id": "_E4CRVLThRJh",
        "outputId": "5ede2692-3212-45cd-a27d-16e8d89ed6be"
      },
      "source": [
        "df.info()"
      ],
      "execution_count": null,
      "outputs": [
        {
          "output_type": "stream",
          "text": [
            "<class 'pandas.core.frame.DataFrame'>\n",
            "RangeIndex: 2256 entries, 0 to 2255\n",
            "Data columns (total 8 columns):\n",
            " #   Column      Non-Null Count  Dtype  \n",
            "---  ------      --------------  -----  \n",
            " 0   LOCATION    2256 non-null   object \n",
            " 1   INDICATOR   2256 non-null   object \n",
            " 2   SUBJECT     2256 non-null   object \n",
            " 3   MEASURE     2256 non-null   object \n",
            " 4   FREQUENCY   2256 non-null   object \n",
            " 5   TIME        2256 non-null   int64  \n",
            " 6   Value       2256 non-null   float64\n",
            " 7   Flag Codes  0 non-null      float64\n",
            "dtypes: float64(2), int64(1), object(5)\n",
            "memory usage: 141.1+ KB\n"
          ],
          "name": "stdout"
        }
      ]
    },
    {
      "cell_type": "code",
      "metadata": {
        "colab": {
          "base_uri": "https://localhost:8080/",
          "height": 294
        },
        "id": "OPskZTnwhUoW",
        "outputId": "2e0aace1-f9ff-43c1-f66f-7248234e4cb2"
      },
      "source": [
        "df.describe()"
      ],
      "execution_count": null,
      "outputs": [
        {
          "output_type": "execute_result",
          "data": {
            "text/html": [
              "<div>\n",
              "<style scoped>\n",
              "    .dataframe tbody tr th:only-of-type {\n",
              "        vertical-align: middle;\n",
              "    }\n",
              "\n",
              "    .dataframe tbody tr th {\n",
              "        vertical-align: top;\n",
              "    }\n",
              "\n",
              "    .dataframe thead th {\n",
              "        text-align: right;\n",
              "    }\n",
              "</style>\n",
              "<table border=\"1\" class=\"dataframe\">\n",
              "  <thead>\n",
              "    <tr style=\"text-align: right;\">\n",
              "      <th></th>\n",
              "      <th>TIME</th>\n",
              "      <th>Value</th>\n",
              "      <th>Flag Codes</th>\n",
              "    </tr>\n",
              "  </thead>\n",
              "  <tbody>\n",
              "    <tr>\n",
              "      <th>count</th>\n",
              "      <td>2256.000000</td>\n",
              "      <td>2256.000000</td>\n",
              "      <td>0.0</td>\n",
              "    </tr>\n",
              "    <tr>\n",
              "      <th>mean</th>\n",
              "      <td>2001.252216</td>\n",
              "      <td>212.719646</td>\n",
              "      <td>NaN</td>\n",
              "    </tr>\n",
              "    <tr>\n",
              "      <th>std</th>\n",
              "      <td>11.271798</td>\n",
              "      <td>1142.457562</td>\n",
              "      <td>NaN</td>\n",
              "    </tr>\n",
              "    <tr>\n",
              "      <th>min</th>\n",
              "      <td>1981.000000</td>\n",
              "      <td>0.000000</td>\n",
              "      <td>NaN</td>\n",
              "    </tr>\n",
              "    <tr>\n",
              "      <th>25%</th>\n",
              "      <td>1992.000000</td>\n",
              "      <td>0.846773</td>\n",
              "      <td>NaN</td>\n",
              "    </tr>\n",
              "    <tr>\n",
              "      <th>50%</th>\n",
              "      <td>2002.000000</td>\n",
              "      <td>1.504899</td>\n",
              "      <td>NaN</td>\n",
              "    </tr>\n",
              "    <tr>\n",
              "      <th>75%</th>\n",
              "      <td>2011.000000</td>\n",
              "      <td>9.112342</td>\n",
              "      <td>NaN</td>\n",
              "    </tr>\n",
              "    <tr>\n",
              "      <th>max</th>\n",
              "      <td>2020.000000</td>\n",
              "      <td>14582.203468</td>\n",
              "      <td>NaN</td>\n",
              "    </tr>\n",
              "  </tbody>\n",
              "</table>\n",
              "</div>"
            ],
            "text/plain": [
              "              TIME         Value  Flag Codes\n",
              "count  2256.000000   2256.000000         0.0\n",
              "mean   2001.252216    212.719646         NaN\n",
              "std      11.271798   1142.457562         NaN\n",
              "min    1981.000000      0.000000         NaN\n",
              "25%    1992.000000      0.846773         NaN\n",
              "50%    2002.000000      1.504899         NaN\n",
              "75%    2011.000000      9.112342         NaN\n",
              "max    2020.000000  14582.203468         NaN"
            ]
          },
          "metadata": {
            "tags": []
          },
          "execution_count": 6
        }
      ]
    },
    {
      "cell_type": "code",
      "metadata": {
        "id": "Cv9VeLkdhWm_"
      },
      "source": [
        "new_df=df[['LOCATION','TIME','Value']]"
      ],
      "execution_count": null,
      "outputs": []
    },
    {
      "cell_type": "code",
      "metadata": {
        "colab": {
          "base_uri": "https://localhost:8080/",
          "height": 202
        },
        "id": "jEFafFvlhaCI",
        "outputId": "b5f71762-d723-4875-b432-337ea581faf4"
      },
      "source": [
        "new_df.head()"
      ],
      "execution_count": null,
      "outputs": [
        {
          "output_type": "execute_result",
          "data": {
            "text/html": [
              "<div>\n",
              "<style scoped>\n",
              "    .dataframe tbody tr th:only-of-type {\n",
              "        vertical-align: middle;\n",
              "    }\n",
              "\n",
              "    .dataframe tbody tr th {\n",
              "        vertical-align: top;\n",
              "    }\n",
              "\n",
              "    .dataframe thead th {\n",
              "        text-align: right;\n",
              "    }\n",
              "</style>\n",
              "<table border=\"1\" class=\"dataframe\">\n",
              "  <thead>\n",
              "    <tr style=\"text-align: right;\">\n",
              "      <th></th>\n",
              "      <th>LOCATION</th>\n",
              "      <th>TIME</th>\n",
              "      <th>Value</th>\n",
              "    </tr>\n",
              "  </thead>\n",
              "  <tbody>\n",
              "    <tr>\n",
              "      <th>0</th>\n",
              "      <td>AUS</td>\n",
              "      <td>1981</td>\n",
              "      <td>0.870215</td>\n",
              "    </tr>\n",
              "    <tr>\n",
              "      <th>1</th>\n",
              "      <td>AUS</td>\n",
              "      <td>1982</td>\n",
              "      <td>0.985863</td>\n",
              "    </tr>\n",
              "    <tr>\n",
              "      <th>2</th>\n",
              "      <td>AUS</td>\n",
              "      <td>1983</td>\n",
              "      <td>1.110015</td>\n",
              "    </tr>\n",
              "    <tr>\n",
              "      <th>3</th>\n",
              "      <td>AUS</td>\n",
              "      <td>1984</td>\n",
              "      <td>1.139519</td>\n",
              "    </tr>\n",
              "    <tr>\n",
              "      <th>4</th>\n",
              "      <td>AUS</td>\n",
              "      <td>1985</td>\n",
              "      <td>1.431895</td>\n",
              "    </tr>\n",
              "  </tbody>\n",
              "</table>\n",
              "</div>"
            ],
            "text/plain": [
              "  LOCATION  TIME     Value\n",
              "0      AUS  1981  0.870215\n",
              "1      AUS  1982  0.985863\n",
              "2      AUS  1983  1.110015\n",
              "3      AUS  1984  1.139519\n",
              "4      AUS  1985  1.431895"
            ]
          },
          "metadata": {
            "tags": []
          },
          "execution_count": 8
        }
      ]
    },
    {
      "cell_type": "code",
      "metadata": {
        "id": "TEUVqwFBhb4K"
      },
      "source": [
        "Year = list(range(1981, 2021))"
      ],
      "execution_count": null,
      "outputs": []
    },
    {
      "cell_type": "code",
      "metadata": {
        "colab": {
          "base_uri": "https://localhost:8080/"
        },
        "id": "IbQtFadVhgVF",
        "outputId": "ddc61c04-1a83-4404-935e-c649bc001262"
      },
      "source": [
        "df['LOCATION'].unique()"
      ],
      "execution_count": null,
      "outputs": [
        {
          "output_type": "execute_result",
          "data": {
            "text/plain": [
              "array(['AUS', 'AUT', 'BEL', 'CAN', 'CZE', 'DNK', 'FIN', 'FRA', 'DEU',\n",
              "       'GRC', 'HUN', 'ISL', 'IRL', 'ITA', 'JPN', 'KOR', 'LUX', 'MEX',\n",
              "       'NLD', 'NZL', 'NOR', 'POL', 'PRT', 'SVK', 'ESP', 'SWE', 'CHE',\n",
              "       'TUR', 'GBR', 'USA', 'BRA', 'CHL', 'CHN', 'COL', 'EST', 'IND',\n",
              "       'IDN', 'ISR', 'RUS', 'SVN', 'ZAF', 'DEW', 'EU28', 'LVA', 'LTU',\n",
              "       'SAU', 'EA19', 'ARG', 'CRI', 'BGR', 'HRV', 'CYP', 'MLT', 'PER',\n",
              "       'ROU', 'MKD', 'MDG', 'MAR', 'ZMB', 'SRB', 'HKG'], dtype=object)"
            ]
          },
          "metadata": {
            "tags": []
          },
          "execution_count": 10
        }
      ]
    },
    {
      "cell_type": "code",
      "metadata": {
        "id": "ZhmIIWY3hh-J"
      },
      "source": [
        "Countries=['CHN','IND','JPN','GBR','SWE','CAN']\r\n"
      ],
      "execution_count": null,
      "outputs": []
    },
    {
      "cell_type": "code",
      "metadata": {
        "colab": {
          "base_uri": "https://localhost:8080/",
          "height": 233
        },
        "id": "OKuOnqmOhkVK",
        "outputId": "b956f26d-8cc2-4756-e843-677e733ab79e"
      },
      "source": [
        "data={'Country':Countries}\r\n",
        "fin_df=pd.DataFrame(data)\r\n",
        "fin_df.head(6)"
      ],
      "execution_count": null,
      "outputs": [
        {
          "output_type": "execute_result",
          "data": {
            "text/html": [
              "<div>\n",
              "<style scoped>\n",
              "    .dataframe tbody tr th:only-of-type {\n",
              "        vertical-align: middle;\n",
              "    }\n",
              "\n",
              "    .dataframe tbody tr th {\n",
              "        vertical-align: top;\n",
              "    }\n",
              "\n",
              "    .dataframe thead th {\n",
              "        text-align: right;\n",
              "    }\n",
              "</style>\n",
              "<table border=\"1\" class=\"dataframe\">\n",
              "  <thead>\n",
              "    <tr style=\"text-align: right;\">\n",
              "      <th></th>\n",
              "      <th>Country</th>\n",
              "    </tr>\n",
              "  </thead>\n",
              "  <tbody>\n",
              "    <tr>\n",
              "      <th>0</th>\n",
              "      <td>CHN</td>\n",
              "    </tr>\n",
              "    <tr>\n",
              "      <th>1</th>\n",
              "      <td>IND</td>\n",
              "    </tr>\n",
              "    <tr>\n",
              "      <th>2</th>\n",
              "      <td>JPN</td>\n",
              "    </tr>\n",
              "    <tr>\n",
              "      <th>3</th>\n",
              "      <td>GBR</td>\n",
              "    </tr>\n",
              "    <tr>\n",
              "      <th>4</th>\n",
              "      <td>SWE</td>\n",
              "    </tr>\n",
              "    <tr>\n",
              "      <th>5</th>\n",
              "      <td>CAN</td>\n",
              "    </tr>\n",
              "  </tbody>\n",
              "</table>\n",
              "</div>"
            ],
            "text/plain": [
              "  Country\n",
              "0     CHN\n",
              "1     IND\n",
              "2     JPN\n",
              "3     GBR\n",
              "4     SWE\n",
              "5     CAN"
            ]
          },
          "metadata": {
            "tags": []
          },
          "execution_count": 12
        }
      ]
    },
    {
      "cell_type": "code",
      "metadata": {
        "id": "o94mg0o7hl0R",
        "colab": {
          "base_uri": "https://localhost:8080/",
          "height": 131
        },
        "outputId": "470f8235-5c3f-43e8-acf1-c6a01606630f"
      },
      "source": [
        "for country in Countries:\r\n",
        "    for year in Year:\r\n",
        "        fin_df[year]=new_df['Value'] if (new_df['LOCATION']==country)&(new_df['TIME']==year)\r\n",
        "        "
      ],
      "execution_count": null,
      "outputs": [
        {
          "output_type": "error",
          "ename": "SyntaxError",
          "evalue": "ignored",
          "traceback": [
            "\u001b[0;36m  File \u001b[0;32m\"<ipython-input-13-f91ce44c493d>\"\u001b[0;36m, line \u001b[0;32m3\u001b[0m\n\u001b[0;31m    fin_df[year]=new_df['Value'] if (new_df['LOCATION']==country)&(new_df['TIME']==year)\u001b[0m\n\u001b[0m                                                                                        ^\u001b[0m\n\u001b[0;31mSyntaxError\u001b[0m\u001b[0;31m:\u001b[0m invalid syntax\n"
          ]
        }
      ]
    },
    {
      "cell_type": "code",
      "metadata": {
        "id": "RpiHkJIP4HtW"
      },
      "source": [
        "df1 = df.set_index('LOCATION')"
      ],
      "execution_count": null,
      "outputs": []
    },
    {
      "cell_type": "code",
      "metadata": {
        "colab": {
          "base_uri": "https://localhost:8080/",
          "height": 428
        },
        "id": "-RcIyWiJlvxg",
        "outputId": "25f4d59c-1359-49df-fa4f-2d379b51c5e3"
      },
      "source": [
        "df2 = df1.loc[['CHN','IND','JPN','GBR','SWE','CAN']]\r\n",
        "df2.head(100)\r\n"
      ],
      "execution_count": null,
      "outputs": [
        {
          "output_type": "execute_result",
          "data": {
            "text/html": [
              "<div>\n",
              "<style scoped>\n",
              "    .dataframe tbody tr th:only-of-type {\n",
              "        vertical-align: middle;\n",
              "    }\n",
              "\n",
              "    .dataframe tbody tr th {\n",
              "        vertical-align: top;\n",
              "    }\n",
              "\n",
              "    .dataframe thead th {\n",
              "        text-align: right;\n",
              "    }\n",
              "</style>\n",
              "<table border=\"1\" class=\"dataframe\">\n",
              "  <thead>\n",
              "    <tr style=\"text-align: right;\">\n",
              "      <th></th>\n",
              "      <th>INDICATOR</th>\n",
              "      <th>SUBJECT</th>\n",
              "      <th>MEASURE</th>\n",
              "      <th>FREQUENCY</th>\n",
              "      <th>TIME</th>\n",
              "      <th>Value</th>\n",
              "      <th>Flag Codes</th>\n",
              "    </tr>\n",
              "    <tr>\n",
              "      <th>LOCATION</th>\n",
              "      <th></th>\n",
              "      <th></th>\n",
              "      <th></th>\n",
              "      <th></th>\n",
              "      <th></th>\n",
              "      <th></th>\n",
              "      <th></th>\n",
              "    </tr>\n",
              "  </thead>\n",
              "  <tbody>\n",
              "    <tr>\n",
              "      <th>CHN</th>\n",
              "      <td>EXCH</td>\n",
              "      <td>TOT</td>\n",
              "      <td>NATUSD</td>\n",
              "      <td>A</td>\n",
              "      <td>1981</td>\n",
              "      <td>1.704542</td>\n",
              "      <td>NaN</td>\n",
              "    </tr>\n",
              "    <tr>\n",
              "      <th>CHN</th>\n",
              "      <td>EXCH</td>\n",
              "      <td>TOT</td>\n",
              "      <td>NATUSD</td>\n",
              "      <td>A</td>\n",
              "      <td>1982</td>\n",
              "      <td>1.892542</td>\n",
              "      <td>NaN</td>\n",
              "    </tr>\n",
              "    <tr>\n",
              "      <th>CHN</th>\n",
              "      <td>EXCH</td>\n",
              "      <td>TOT</td>\n",
              "      <td>NATUSD</td>\n",
              "      <td>A</td>\n",
              "      <td>1983</td>\n",
              "      <td>1.975675</td>\n",
              "      <td>NaN</td>\n",
              "    </tr>\n",
              "    <tr>\n",
              "      <th>CHN</th>\n",
              "      <td>EXCH</td>\n",
              "      <td>TOT</td>\n",
              "      <td>NATUSD</td>\n",
              "      <td>A</td>\n",
              "      <td>1984</td>\n",
              "      <td>2.320042</td>\n",
              "      <td>NaN</td>\n",
              "    </tr>\n",
              "    <tr>\n",
              "      <th>CHN</th>\n",
              "      <td>EXCH</td>\n",
              "      <td>TOT</td>\n",
              "      <td>NATUSD</td>\n",
              "      <td>A</td>\n",
              "      <td>1985</td>\n",
              "      <td>2.936658</td>\n",
              "      <td>NaN</td>\n",
              "    </tr>\n",
              "    <tr>\n",
              "      <th>...</th>\n",
              "      <td>...</td>\n",
              "      <td>...</td>\n",
              "      <td>...</td>\n",
              "      <td>...</td>\n",
              "      <td>...</td>\n",
              "      <td>...</td>\n",
              "      <td>...</td>\n",
              "    </tr>\n",
              "    <tr>\n",
              "      <th>JPN</th>\n",
              "      <td>EXCH</td>\n",
              "      <td>TOT</td>\n",
              "      <td>NATUSD</td>\n",
              "      <td>A</td>\n",
              "      <td>1996</td>\n",
              "      <td>108.779057</td>\n",
              "      <td>NaN</td>\n",
              "    </tr>\n",
              "    <tr>\n",
              "      <th>JPN</th>\n",
              "      <td>EXCH</td>\n",
              "      <td>TOT</td>\n",
              "      <td>NATUSD</td>\n",
              "      <td>A</td>\n",
              "      <td>1997</td>\n",
              "      <td>120.990863</td>\n",
              "      <td>NaN</td>\n",
              "    </tr>\n",
              "    <tr>\n",
              "      <th>JPN</th>\n",
              "      <td>EXCH</td>\n",
              "      <td>TOT</td>\n",
              "      <td>NATUSD</td>\n",
              "      <td>A</td>\n",
              "      <td>1998</td>\n",
              "      <td>130.905301</td>\n",
              "      <td>NaN</td>\n",
              "    </tr>\n",
              "    <tr>\n",
              "      <th>JPN</th>\n",
              "      <td>EXCH</td>\n",
              "      <td>TOT</td>\n",
              "      <td>NATUSD</td>\n",
              "      <td>A</td>\n",
              "      <td>1999</td>\n",
              "      <td>113.906805</td>\n",
              "      <td>NaN</td>\n",
              "    </tr>\n",
              "    <tr>\n",
              "      <th>JPN</th>\n",
              "      <td>EXCH</td>\n",
              "      <td>TOT</td>\n",
              "      <td>NATUSD</td>\n",
              "      <td>A</td>\n",
              "      <td>2000</td>\n",
              "      <td>107.765498</td>\n",
              "      <td>NaN</td>\n",
              "    </tr>\n",
              "  </tbody>\n",
              "</table>\n",
              "<p>100 rows × 7 columns</p>\n",
              "</div>"
            ],
            "text/plain": [
              "         INDICATOR SUBJECT MEASURE FREQUENCY  TIME       Value  Flag Codes\n",
              "LOCATION                                                                  \n",
              "CHN           EXCH     TOT  NATUSD         A  1981    1.704542         NaN\n",
              "CHN           EXCH     TOT  NATUSD         A  1982    1.892542         NaN\n",
              "CHN           EXCH     TOT  NATUSD         A  1983    1.975675         NaN\n",
              "CHN           EXCH     TOT  NATUSD         A  1984    2.320042         NaN\n",
              "CHN           EXCH     TOT  NATUSD         A  1985    2.936658         NaN\n",
              "...            ...     ...     ...       ...   ...         ...         ...\n",
              "JPN           EXCH     TOT  NATUSD         A  1996  108.779057         NaN\n",
              "JPN           EXCH     TOT  NATUSD         A  1997  120.990863         NaN\n",
              "JPN           EXCH     TOT  NATUSD         A  1998  130.905301         NaN\n",
              "JPN           EXCH     TOT  NATUSD         A  1999  113.906805         NaN\n",
              "JPN           EXCH     TOT  NATUSD         A  2000  107.765498         NaN\n",
              "\n",
              "[100 rows x 7 columns]"
            ]
          },
          "metadata": {
            "tags": []
          },
          "execution_count": 46
        }
      ]
    },
    {
      "cell_type": "code",
      "metadata": {
        "colab": {
          "base_uri": "https://localhost:8080/",
          "height": 428
        },
        "id": "eEl3v2zJ4cOG",
        "outputId": "b40c4cf8-cd9f-4d1f-bf84-eeaba8a3dfda"
      },
      "source": [
        "df3 = df2.loc[:,['TIME','Value']]\r\n",
        "df3.head(100)"
      ],
      "execution_count": null,
      "outputs": [
        {
          "output_type": "execute_result",
          "data": {
            "text/html": [
              "<div>\n",
              "<style scoped>\n",
              "    .dataframe tbody tr th:only-of-type {\n",
              "        vertical-align: middle;\n",
              "    }\n",
              "\n",
              "    .dataframe tbody tr th {\n",
              "        vertical-align: top;\n",
              "    }\n",
              "\n",
              "    .dataframe thead th {\n",
              "        text-align: right;\n",
              "    }\n",
              "</style>\n",
              "<table border=\"1\" class=\"dataframe\">\n",
              "  <thead>\n",
              "    <tr style=\"text-align: right;\">\n",
              "      <th></th>\n",
              "      <th>TIME</th>\n",
              "      <th>Value</th>\n",
              "    </tr>\n",
              "    <tr>\n",
              "      <th>LOCATION</th>\n",
              "      <th></th>\n",
              "      <th></th>\n",
              "    </tr>\n",
              "  </thead>\n",
              "  <tbody>\n",
              "    <tr>\n",
              "      <th>CHN</th>\n",
              "      <td>1981</td>\n",
              "      <td>1.704542</td>\n",
              "    </tr>\n",
              "    <tr>\n",
              "      <th>CHN</th>\n",
              "      <td>1982</td>\n",
              "      <td>1.892542</td>\n",
              "    </tr>\n",
              "    <tr>\n",
              "      <th>CHN</th>\n",
              "      <td>1983</td>\n",
              "      <td>1.975675</td>\n",
              "    </tr>\n",
              "    <tr>\n",
              "      <th>CHN</th>\n",
              "      <td>1984</td>\n",
              "      <td>2.320042</td>\n",
              "    </tr>\n",
              "    <tr>\n",
              "      <th>CHN</th>\n",
              "      <td>1985</td>\n",
              "      <td>2.936658</td>\n",
              "    </tr>\n",
              "    <tr>\n",
              "      <th>...</th>\n",
              "      <td>...</td>\n",
              "      <td>...</td>\n",
              "    </tr>\n",
              "    <tr>\n",
              "      <th>JPN</th>\n",
              "      <td>1996</td>\n",
              "      <td>108.779057</td>\n",
              "    </tr>\n",
              "    <tr>\n",
              "      <th>JPN</th>\n",
              "      <td>1997</td>\n",
              "      <td>120.990863</td>\n",
              "    </tr>\n",
              "    <tr>\n",
              "      <th>JPN</th>\n",
              "      <td>1998</td>\n",
              "      <td>130.905301</td>\n",
              "    </tr>\n",
              "    <tr>\n",
              "      <th>JPN</th>\n",
              "      <td>1999</td>\n",
              "      <td>113.906805</td>\n",
              "    </tr>\n",
              "    <tr>\n",
              "      <th>JPN</th>\n",
              "      <td>2000</td>\n",
              "      <td>107.765498</td>\n",
              "    </tr>\n",
              "  </tbody>\n",
              "</table>\n",
              "<p>100 rows × 2 columns</p>\n",
              "</div>"
            ],
            "text/plain": [
              "          TIME       Value\n",
              "LOCATION                  \n",
              "CHN       1981    1.704542\n",
              "CHN       1982    1.892542\n",
              "CHN       1983    1.975675\n",
              "CHN       1984    2.320042\n",
              "CHN       1985    2.936658\n",
              "...        ...         ...\n",
              "JPN       1996  108.779057\n",
              "JPN       1997  120.990863\n",
              "JPN       1998  130.905301\n",
              "JPN       1999  113.906805\n",
              "JPN       2000  107.765498\n",
              "\n",
              "[100 rows x 2 columns]"
            ]
          },
          "metadata": {
            "tags": []
          },
          "execution_count": 49
        }
      ]
    },
    {
      "cell_type": "code",
      "metadata": {
        "id": "cG_-y3Vz6HbY"
      },
      "source": [
        "Exchange_Rates_Yearly=pd.DataFrame()\r\n",
        "Exchange_Rates_Yearly.to_csv=('Exchange_Rates.csv')"
      ],
      "execution_count": null,
      "outputs": []
    }
  ]
}